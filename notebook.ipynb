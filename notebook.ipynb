{
 "cells": [
  {
   "cell_type": "code",
   "execution_count": null,
   "metadata": {},
   "outputs": [
    {
     "name": "stdout",
     "output_type": "stream",
     "text": [
      "BID_SIZE 0\n",
      "BID 1\n",
      "ASK 2\n",
      "ASK_SIZE 3\n",
      "LAST 4\n",
      "LAST_SIZE 5\n",
      "HIGH 6\n",
      "LOW 7\n",
      "VOLUME 8\n",
      "CLOSE 9\n",
      "BID_OPTION_COMPUTATION 10\n",
      "ASK_OPTION_COMPUTATION 11\n",
      "LAST_OPTION_COMPUTATION 12\n",
      "MODEL_OPTION 13\n",
      "OPEN 14\n",
      "LOW_13_WEEK 15\n",
      "HIGH_13_WEEK 16\n",
      "LOW_26_WEEK 17\n",
      "HIGH_26_WEEK 18\n",
      "LOW_52_WEEK 19\n",
      "HIGH_52_WEEK 20\n",
      "AVG_VOLUME 21\n",
      "OPEN_INTEREST 22\n",
      "OPTION_HISTORICAL_VOL 23\n",
      "OPTION_IMPLIED_VOL 24\n",
      "OPTION_BID_EXCH 25\n",
      "OPTION_ASK_EXCH 26\n",
      "OPTION_CALL_OPEN_INTEREST 27\n",
      "OPTION_PUT_OPEN_INTEREST 28\n",
      "OPTION_CALL_VOLUME 29\n",
      "OPTION_PUT_VOLUME 30\n",
      "INDEX_FUTURE_PREMIUM 31\n",
      "BID_EXCH 32\n",
      "ASK_EXCH 33\n",
      "AUCTION_VOLUME 34\n",
      "AUCTION_PRICE 35\n",
      "AUCTION_IMBALANCE 36\n",
      "MARK_PRICE 37\n",
      "BID_EFP_COMPUTATION 38\n",
      "ASK_EFP_COMPUTATION 39\n",
      "LAST_EFP_COMPUTATION 40\n",
      "OPEN_EFP_COMPUTATION 41\n",
      "HIGH_EFP_COMPUTATION 42\n",
      "LOW_EFP_COMPUTATION 43\n",
      "CLOSE_EFP_COMPUTATION 44\n",
      "LAST_TIMESTAMP 45\n",
      "SHORTABLE 46\n",
      "FUNDAMENTAL_RATIOS 47\n",
      "RT_VOLUME 48\n",
      "HALTED 49\n",
      "BID_YIELD 50\n",
      "ASK_YIELD 51\n",
      "LAST_YIELD 52\n",
      "CUST_OPTION_COMPUTATION 53\n",
      "TRADE_COUNT 54\n",
      "TRADE_RATE 55\n",
      "VOLUME_RATE 56\n",
      "LAST_RTH_TRADE 57\n",
      "RT_HISTORICAL_VOL 58\n",
      "IB_DIVIDENDS 59\n",
      "BOND_FACTOR_MULTIPLIER 60\n",
      "REGULATORY_IMBALANCE 61\n",
      "NEWS_TICK 62\n",
      "SHORT_TERM_VOLUME_3_MIN 63\n",
      "SHORT_TERM_VOLUME_5_MIN 64\n",
      "SHORT_TERM_VOLUME_10_MIN 65\n",
      "DELAYED_BID 66\n",
      "DELAYED_ASK 67\n",
      "DELAYED_LAST 68\n",
      "DELAYED_BID_SIZE 69\n",
      "DELAYED_ASK_SIZE 70\n",
      "DELAYED_LAST_SIZE 71\n",
      "DELAYED_HIGH 72\n",
      "DELAYED_LOW 73\n",
      "DELAYED_VOLUME 74\n",
      "DELAYED_CLOSE 75\n",
      "DELAYED_OPEN 76\n",
      "RT_TRD_VOLUME 77\n",
      "CREDITMAN_MARK_PRICE 78\n",
      "CREDITMAN_SLOW_MARK_PRICE 79\n",
      "DELAYED_BID_OPTION 80\n",
      "DELAYED_ASK_OPTION 81\n",
      "DELAYED_LAST_OPTION 82\n",
      "DELAYED_MODEL_OPTION 83\n",
      "LAST_EXCH 84\n",
      "LAST_REG_TIME 85\n",
      "FUTURES_OPEN_INTEREST 86\n",
      "AVG_OPT_VOLUME 87\n",
      "DELAYED_LAST_TIMESTAMP 88\n",
      "SHORTABLE_SHARES 89\n",
      "DELAYED_HALTED 90\n"
     ]
    }
   ],
   "source": [
    "from utility.Tickets import *\n",
    "\n",
    "getAvailableTickets()"
   ]
  },
  {
   "cell_type": "markdown",
   "metadata": {},
   "source": [
    "# Another method\n",
    "\n",
    "Using IBPy: https://blog.quantinsti.com/ibpy-tutorial-implement-python-interactive-brokers-api/"
   ]
  },
  {
   "cell_type": "code",
   "execution_count": null,
   "metadata": {},
   "outputs": [
    {
     "ename": "KeyboardInterrupt",
     "evalue": "",
     "output_type": "error",
     "traceback": [
      "\u001b[0;31m---------------------------------------------------------------------------\u001b[0m",
      "\u001b[0;31mKeyboardInterrupt\u001b[0m                         Traceback (most recent call last)",
      "Cell \u001b[0;32mIn[44], line 6\u001b[0m\n\u001b[1;32m      2\u001b[0m \u001b[38;5;28;01mimport\u001b[39;00m \u001b[38;5;21;01mtime\u001b[39;00m\n\u001b[1;32m      4\u001b[0m \u001b[38;5;28;01mwhile\u001b[39;00m \u001b[38;5;28;01mTrue\u001b[39;00m:\n\u001b[1;32m      5\u001b[0m     \u001b[38;5;66;03m#time.sleep(1)\u001b[39;00m\n\u001b[0;32m----> 6\u001b[0m     now \u001b[38;5;241m=\u001b[39m \u001b[43mdatetime\u001b[49m\u001b[38;5;241;43m.\u001b[39;49m\u001b[43mnow\u001b[49m\u001b[43m(\u001b[49m\u001b[43m)\u001b[49m\n\u001b[1;32m      7\u001b[0m     \u001b[38;5;28;01mif\u001b[39;00m now\u001b[38;5;241m.\u001b[39mhour\u001b[38;5;241m==\u001b[39m\u001b[38;5;241m15\u001b[39m \u001b[38;5;129;01mand\u001b[39;00m now\u001b[38;5;241m.\u001b[39mminute\u001b[38;5;241m==\u001b[39m\u001b[38;5;241m27\u001b[39m:\n\u001b[1;32m      8\u001b[0m         \u001b[38;5;28mprint\u001b[39m(\u001b[38;5;124m'\u001b[39m\u001b[38;5;124mIts time to run the code\u001b[39m\u001b[38;5;124m'\u001b[39m)\n",
      "\u001b[0;31mKeyboardInterrupt\u001b[0m: "
     ]
    }
   ],
   "source": [
    "from datetime import datetime\n",
    "import time\n",
    "\n",
    "while True:\n",
    "    time.sleep(60)\n",
    "    now = datetime.now()\n",
    "    if now.hour>=15 and now.minute>=58:\n",
    "        print('Its time to run the code')\n",
    "        # Call your CODE() function here\n",
    "        break"
   ]
  },
  {
   "cell_type": "code",
   "execution_count": 47,
   "metadata": {},
   "outputs": [
    {
     "name": "stdout",
     "output_type": "stream",
     "text": [
      "__main__\n"
     ]
    }
   ],
   "source": [
    "import sys\n",
    "print(__name__)"
   ]
  }
 ],
 "metadata": {
  "kernelspec": {
   "display_name": "Python 3",
   "language": "python",
   "name": "python3"
  },
  "language_info": {
   "codemirror_mode": {
    "name": "ipython",
    "version": 3
   },
   "file_extension": ".py",
   "mimetype": "text/x-python",
   "name": "python",
   "nbconvert_exporter": "python",
   "pygments_lexer": "ipython3",
   "version": "3.9.6"
  }
 },
 "nbformat": 4,
 "nbformat_minor": 2
}
