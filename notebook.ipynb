{
 "cells": [
  {
   "cell_type": "markdown",
   "metadata": {},
   "source": [
    "# Price"
   ]
  },
  {
   "cell_type": "code",
   "execution_count": 2,
   "metadata": {},
   "outputs": [
    {
     "name": "stdout",
     "output_type": "stream",
     "text": [
      "BID_SIZE 0\n",
      "BID 1\n",
      "ASK 2\n",
      "ASK_SIZE 3\n",
      "LAST 4\n",
      "LAST_SIZE 5\n",
      "HIGH 6\n",
      "LOW 7\n",
      "VOLUME 8\n",
      "CLOSE 9\n",
      "BID_OPTION_COMPUTATION 10\n",
      "ASK_OPTION_COMPUTATION 11\n",
      "LAST_OPTION_COMPUTATION 12\n",
      "MODEL_OPTION 13\n",
      "OPEN 14\n",
      "LOW_13_WEEK 15\n",
      "HIGH_13_WEEK 16\n",
      "LOW_26_WEEK 17\n",
      "HIGH_26_WEEK 18\n",
      "LOW_52_WEEK 19\n",
      "HIGH_52_WEEK 20\n",
      "AVG_VOLUME 21\n",
      "OPEN_INTEREST 22\n",
      "OPTION_HISTORICAL_VOL 23\n",
      "OPTION_IMPLIED_VOL 24\n",
      "OPTION_BID_EXCH 25\n",
      "OPTION_ASK_EXCH 26\n",
      "OPTION_CALL_OPEN_INTEREST 27\n",
      "OPTION_PUT_OPEN_INTEREST 28\n",
      "OPTION_CALL_VOLUME 29\n",
      "OPTION_PUT_VOLUME 30\n",
      "INDEX_FUTURE_PREMIUM 31\n",
      "BID_EXCH 32\n",
      "ASK_EXCH 33\n",
      "AUCTION_VOLUME 34\n",
      "AUCTION_PRICE 35\n",
      "AUCTION_IMBALANCE 36\n",
      "MARK_PRICE 37\n",
      "BID_EFP_COMPUTATION 38\n",
      "ASK_EFP_COMPUTATION 39\n",
      "LAST_EFP_COMPUTATION 40\n",
      "OPEN_EFP_COMPUTATION 41\n",
      "HIGH_EFP_COMPUTATION 42\n",
      "LOW_EFP_COMPUTATION 43\n",
      "CLOSE_EFP_COMPUTATION 44\n",
      "LAST_TIMESTAMP 45\n",
      "SHORTABLE 46\n",
      "FUNDAMENTAL_RATIOS 47\n",
      "RT_VOLUME 48\n",
      "HALTED 49\n",
      "BID_YIELD 50\n",
      "ASK_YIELD 51\n",
      "LAST_YIELD 52\n",
      "CUST_OPTION_COMPUTATION 53\n",
      "TRADE_COUNT 54\n",
      "TRADE_RATE 55\n",
      "VOLUME_RATE 56\n",
      "LAST_RTH_TRADE 57\n",
      "RT_HISTORICAL_VOL 58\n",
      "IB_DIVIDENDS 59\n",
      "BOND_FACTOR_MULTIPLIER 60\n",
      "REGULATORY_IMBALANCE 61\n",
      "NEWS_TICK 62\n",
      "SHORT_TERM_VOLUME_3_MIN 63\n",
      "SHORT_TERM_VOLUME_5_MIN 64\n",
      "SHORT_TERM_VOLUME_10_MIN 65\n",
      "DELAYED_BID 66\n",
      "DELAYED_ASK 67\n",
      "DELAYED_LAST 68\n",
      "DELAYED_BID_SIZE 69\n",
      "DELAYED_ASK_SIZE 70\n",
      "DELAYED_LAST_SIZE 71\n",
      "DELAYED_HIGH 72\n",
      "DELAYED_LOW 73\n",
      "DELAYED_VOLUME 74\n",
      "DELAYED_CLOSE 75\n",
      "DELAYED_OPEN 76\n",
      "RT_TRD_VOLUME 77\n",
      "CREDITMAN_MARK_PRICE 78\n",
      "CREDITMAN_SLOW_MARK_PRICE 79\n",
      "DELAYED_BID_OPTION 80\n",
      "DELAYED_ASK_OPTION 81\n",
      "DELAYED_LAST_OPTION 82\n",
      "DELAYED_MODEL_OPTION 83\n",
      "LAST_EXCH 84\n",
      "LAST_REG_TIME 85\n",
      "FUTURES_OPEN_INTEREST 86\n",
      "AVG_OPT_VOLUME 87\n",
      "DELAYED_LAST_TIMESTAMP 88\n",
      "SHORTABLE_SHARES 89\n",
      "DELAYED_HALTED 90\n"
     ]
    }
   ],
   "source": [
    "from utility import tickets\n",
    "\n",
    "tickets.getAvailableTickets()"
   ]
  },
  {
   "cell_type": "code",
   "execution_count": 1,
   "metadata": {},
   "outputs": [
    {
     "name": "stderr",
     "output_type": "stream",
     "text": [
      "ERROR -1 2104 Market data farm connection is OK:usfarm.nj\n",
      "ERROR -1 2104 Market data farm connection is OK:usfarm\n",
      "ERROR -1 2106 HMDS data farm connection is OK:ushmds\n",
      "ERROR -1 2158 Sec-def data farm connection is OK:secdefnj\n",
      "ERROR 1 10167 Requested market data is not subscribed. Displaying delayed market data.\n"
     ]
    },
    {
     "name": "stdout",
     "output_type": "stream",
     "text": [
      "68 -1.0 CanAutoExecute: 0, PastLimit: 0, PreOpen: 0\n",
      "66 -1.0 CanAutoExecute: 0, PastLimit: 0, PreOpen: 0\n",
      "67 -1.0 CanAutoExecute: 0, PastLimit: 0, PreOpen: 0\n",
      "75 242.84 CanAutoExecute: 0, PastLimit: 0, PreOpen: 0\n",
      "76 0.0 CanAutoExecute: 0, PastLimit: 0, PreOpen: 0\n"
     ]
    },
    {
     "data": {
      "text/plain": [
       "242.84"
      ]
     },
     "execution_count": 1,
     "metadata": {},
     "output_type": "execute_result"
    }
   ],
   "source": [
    "from utility import price\n",
    "\n",
    "price.getStockPrice('AAPL')"
   ]
  },
  {
   "cell_type": "markdown",
   "metadata": {},
   "source": [
    "# Tutorials\n",
    "\n",
    "Using IBPy: https://blog.quantinsti.com/ibpy-tutorial-implement-python-interactive-brokers-api/"
   ]
  },
  {
   "cell_type": "markdown",
   "metadata": {},
   "source": [
    "# Data"
   ]
  },
  {
   "cell_type": "code",
   "execution_count": null,
   "metadata": {},
   "outputs": [
    {
     "name": "stderr",
     "output_type": "stream",
     "text": [
      "/Users/sajjadedalatzadeh/Library/Python/3.9/lib/python/site-packages/urllib3/__init__.py:35: NotOpenSSLWarning: urllib3 v2 only supports OpenSSL 1.1.1+, currently the 'ssl' module is compiled with 'LibreSSL 2.8.3'. See: https://github.com/urllib3/urllib3/issues/3020\n",
      "  warnings.warn(\n"
     ]
    },
    {
     "ename": "ValueError",
     "evalue": "invalid API key, was None",
     "output_type": "error",
     "traceback": [
      "\u001b[0;31m---------------------------------------------------------------------------\u001b[0m",
      "\u001b[0;31mValueError\u001b[0m                                Traceback (most recent call last)",
      "Cell \u001b[0;32mIn[51], line 3\u001b[0m\n\u001b[1;32m      1\u001b[0m \u001b[38;5;28;01mimport\u001b[39;00m \u001b[38;5;21;01mdatabento\u001b[39;00m \u001b[38;5;28;01mas\u001b[39;00m \u001b[38;5;21;01mdb\u001b[39;00m\n\u001b[0;32m----> 3\u001b[0m client \u001b[38;5;241m=\u001b[39m \u001b[43mdb\u001b[49m\u001b[38;5;241;43m.\u001b[39;49m\u001b[43mHistorical\u001b[49m\u001b[43m(\u001b[49m\u001b[43m)\u001b[49m\n\u001b[1;32m      4\u001b[0m data \u001b[38;5;241m=\u001b[39m client\u001b[38;5;241m.\u001b[39mtimeseries\u001b[38;5;241m.\u001b[39mget_range(\n\u001b[1;32m      5\u001b[0m     dataset\u001b[38;5;241m=\u001b[39m\u001b[38;5;124m'\u001b[39m\u001b[38;5;124mXNAS.ITCH\u001b[39m\u001b[38;5;124m'\u001b[39m,\n\u001b[1;32m      6\u001b[0m     schema\u001b[38;5;241m=\u001b[39m\u001b[38;5;124m'\u001b[39m\u001b[38;5;124mohlcv-1d\u001b[39m\u001b[38;5;124m'\u001b[39m,\n\u001b[1;32m      7\u001b[0m     symbols\u001b[38;5;241m=\u001b[39m\u001b[38;5;124m'\u001b[39m\u001b[38;5;124mALL_SYMBOLS\u001b[39m\u001b[38;5;124m'\u001b[39m,\n\u001b[1;32m      8\u001b[0m     start\u001b[38;5;241m=\u001b[39m\u001b[38;5;124m'\u001b[39m\u001b[38;5;124m20230606\u001b[39m\u001b[38;5;124m'\u001b[39m\n\u001b[1;32m      9\u001b[0m )\n\u001b[1;32m     10\u001b[0m df \u001b[38;5;241m=\u001b[39m data\u001b[38;5;241m.\u001b[39mto_df()\n",
      "File \u001b[0;32m~/Library/Python/3.9/lib/python/site-packages/databento/historical/client.py:46\u001b[0m, in \u001b[0;36mHistorical.__init__\u001b[0;34m(self, key, gateway)\u001b[0m\n\u001b[1;32m     44\u001b[0m     key \u001b[38;5;241m=\u001b[39m os\u001b[38;5;241m.\u001b[39menviron\u001b[38;5;241m.\u001b[39mget(\u001b[38;5;124m\"\u001b[39m\u001b[38;5;124mDATABENTO_API_KEY\u001b[39m\u001b[38;5;124m\"\u001b[39m)\n\u001b[1;32m     45\u001b[0m \u001b[38;5;28;01mif\u001b[39;00m key \u001b[38;5;129;01mis\u001b[39;00m \u001b[38;5;28;01mNone\u001b[39;00m \u001b[38;5;129;01mor\u001b[39;00m \u001b[38;5;129;01mnot\u001b[39;00m \u001b[38;5;28misinstance\u001b[39m(key, \u001b[38;5;28mstr\u001b[39m) \u001b[38;5;129;01mor\u001b[39;00m key\u001b[38;5;241m.\u001b[39misspace():\n\u001b[0;32m---> 46\u001b[0m     \u001b[38;5;28;01mraise\u001b[39;00m \u001b[38;5;167;01mValueError\u001b[39;00m(\u001b[38;5;124mf\u001b[39m\u001b[38;5;124m\"\u001b[39m\u001b[38;5;124minvalid API key, was \u001b[39m\u001b[38;5;132;01m{\u001b[39;00mkey\u001b[38;5;132;01m}\u001b[39;00m\u001b[38;5;124m\"\u001b[39m)\n\u001b[1;32m     48\u001b[0m \u001b[38;5;28;01mtry\u001b[39;00m:\n\u001b[1;32m     49\u001b[0m     gateway \u001b[38;5;241m=\u001b[39m HistoricalGateway(gateway)\n",
      "\u001b[0;31mValueError\u001b[0m: invalid API key, was None"
     ]
    }
   ],
   "source": [
    "import databento as db\n",
    "\n",
    "client = db.Historical()\n",
    "data = client.timeseries.get_range(\n",
    "    dataset='XNAS.ITCH',\n",
    "    schema='ohlcv-1d',\n",
    "    symbols='ALL_SYMBOLS',\n",
    "    start='20230606'\n",
    ")\n",
    "df = data.to_df()\n",
    "df['change'] = (df.close - df.open)/df.open\n",
    "df.sort_values(by='change', inplace=True)"
   ]
  },
  {
   "cell_type": "markdown",
   "metadata": {},
   "source": [
    "# Account"
   ]
  },
  {
   "cell_type": "code",
   "execution_count": 1,
   "metadata": {},
   "outputs": [
    {
     "name": "stderr",
     "output_type": "stream",
     "text": [
      "ERROR -1 2104 Market data farm connection is OK:usfarm.nj\n",
      "ERROR -1 2104 Market data farm connection is OK:usfarm\n",
      "ERROR -1 2106 HMDS data farm connection is OK:ushmds\n",
      "ERROR -1 2158 Sec-def data farm connection is OK:secdefnj\n",
      "ERROR -1 2104 Market data farm connection is OK:usfarm.nj\n",
      "ERROR -1 2104 Market data farm connection is OK:usfarm\n",
      "ERROR -1 2106 HMDS data farm connection is OK:ushmds\n",
      "ERROR -1 2158 Sec-def data farm connection is OK:secdefnj\n"
     ]
    },
    {
     "data": {
      "text/plain": [
       "(147.42, 1.73)"
      ]
     },
     "execution_count": 1,
     "metadata": {},
     "output_type": "execute_result"
    }
   ],
   "source": [
    "from utility import account\n",
    "\n",
    "balanceInUSD = account.getBalanceInUSD()\n",
    "balanceInCAD = account.getBalanceInCAD()\n",
    "(balanceInUSD, balanceInCAD)"
   ]
  }
 ],
 "metadata": {
  "kernelspec": {
   "display_name": "Python 3",
   "language": "python",
   "name": "python3"
  },
  "language_info": {
   "codemirror_mode": {
    "name": "ipython",
    "version": 3
   },
   "file_extension": ".py",
   "mimetype": "text/x-python",
   "name": "python",
   "nbconvert_exporter": "python",
   "pygments_lexer": "ipython3",
   "version": "3.9.6"
  }
 },
 "nbformat": 4,
 "nbformat_minor": 2
}
